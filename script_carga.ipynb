{
 "cells": [
  {
   "cell_type": "code",
   "execution_count": 1,
   "metadata": {},
   "outputs": [],
   "source": [
    "import schedule\n",
    "import time\n",
    "import subprocess"
   ]
  },
  {
   "cell_type": "code",
   "execution_count": 2,
   "metadata": {},
   "outputs": [
    {
     "name": "stdout",
     "output_type": "stream",
     "text": [
      "Se han completado 2 iteraciones. Deteniendo el script.\n",
      "El tiempo ha terminado. Deteniendo el script.\n"
     ]
    }
   ],
   "source": [
    "import subprocess\n",
    "import time\n",
    "\n",
    "iteraciones = 0\n",
    "\n",
    "def ejecutar_script():\n",
    "    global iteraciones\n",
    "    subprocess.run(['python', 'etl-pipeline.py'])\n",
    "    iteraciones += 1\n",
    "    if iteraciones >= 2:  # Cambiado a 2 iteraciones en lugar de 20 para detenerlo después de 2 ejecuciones\n",
    "        print(\"Se han completado 2 iteraciones. Deteniendo el script.\")\n",
    "        return True  # Usar un return para indicar la finalización\n",
    "\n",
    "# Ejecutar el script inicial\n",
    "if ejecutar_script():\n",
    "    exit()  # Salir del script si se han realizado las 2 iteraciones\n",
    "\n",
    "# Dormir por 2 minutos antes de detener\n",
    "time.sleep(10)\n",
    "\n",
    "ejecutar_script()\n",
    "\n",
    "print(\"El tiempo ha terminado. Deteniendo el script.\")\n",
    "\n",
    "\n"
   ]
  }
 ],
 "metadata": {
  "kernelspec": {
   "display_name": "Python 3",
   "language": "python",
   "name": "python3"
  },
  "language_info": {
   "codemirror_mode": {
    "name": "ipython",
    "version": 3
   },
   "file_extension": ".py",
   "mimetype": "text/x-python",
   "name": "python",
   "nbconvert_exporter": "python",
   "pygments_lexer": "ipython3",
   "version": "3.11.5"
  }
 },
 "nbformat": 4,
 "nbformat_minor": 2
}
